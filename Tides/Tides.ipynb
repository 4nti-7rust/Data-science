{
 "cells": [
  {
   "cell_type": "code",
   "execution_count": 1,
   "metadata": {},
   "outputs": [],
   "source": [
    "import pandas as pd"
   ]
  },
  {
   "cell_type": "code",
   "execution_count": 2,
   "metadata": {},
   "outputs": [],
   "source": [
    "import pytz\n",
    "tz = pytz.timezone('Pacific/Auckland')"
   ]
  },
  {
   "cell_type": "markdown",
   "metadata": {},
   "source": [
    "# Data"
   ]
  },
  {
   "cell_type": "markdown",
   "metadata": {},
   "source": [
    "Coming from [linz](https://www.linz.govt.nz/sea/tides/tide-predictions)"
   ]
  },
  {
   "cell_type": "code",
   "execution_count": 3,
   "metadata": {},
   "outputs": [],
   "source": [
    "colName = [\"Day\", \"Day of the week\", \"Month\", \"Year\", \"Tide 1 Time\", \"Tide 1 Height\", \"Tide 2 Time\", \"Tide 2 Height\", \"Tide 3 Time\", \"Tide 3 Height\", \"Tide 4 Time\", \"Tide 4 Height\"]"
   ]
  },
  {
   "cell_type": "code",
   "execution_count": 4,
   "metadata": {},
   "outputs": [],
   "source": [
    "data = pd.read_csv(\"Nelson 2018.csv\", sep=\",\", header=None, encoding = \"utf-8\", skiprows=3, names=colName)"
   ]
  },
  {
   "cell_type": "code",
   "execution_count": 5,
   "metadata": {
    "scrolled": true
   },
   "outputs": [
    {
     "data": {
      "text/html": [
       "<div>\n",
       "<style scoped>\n",
       "    .dataframe tbody tr th:only-of-type {\n",
       "        vertical-align: middle;\n",
       "    }\n",
       "\n",
       "    .dataframe tbody tr th {\n",
       "        vertical-align: top;\n",
       "    }\n",
       "\n",
       "    .dataframe thead th {\n",
       "        text-align: right;\n",
       "    }\n",
       "</style>\n",
       "<table border=\"1\" class=\"dataframe\">\n",
       "  <thead>\n",
       "    <tr style=\"text-align: right;\">\n",
       "      <th></th>\n",
       "      <th>Day</th>\n",
       "      <th>Day of the week</th>\n",
       "      <th>Month</th>\n",
       "      <th>Year</th>\n",
       "      <th>Tide 1 Time</th>\n",
       "      <th>Tide 1 Height</th>\n",
       "      <th>Tide 2 Time</th>\n",
       "      <th>Tide 2 Height</th>\n",
       "      <th>Tide 3 Time</th>\n",
       "      <th>Tide 3 Height</th>\n",
       "      <th>Tide 4 Time</th>\n",
       "      <th>Tide 4 Height</th>\n",
       "    </tr>\n",
       "  </thead>\n",
       "  <tbody>\n",
       "    <tr>\n",
       "      <th>0</th>\n",
       "      <td>1</td>\n",
       "      <td>Mo</td>\n",
       "      <td>1</td>\n",
       "      <td>2018</td>\n",
       "      <td>03:23</td>\n",
       "      <td>0.7</td>\n",
       "      <td>09:58</td>\n",
       "      <td>4.1</td>\n",
       "      <td>15:56</td>\n",
       "      <td>0.5</td>\n",
       "      <td>22:06</td>\n",
       "      <td>4.1</td>\n",
       "    </tr>\n",
       "    <tr>\n",
       "      <th>1</th>\n",
       "      <td>2</td>\n",
       "      <td>Tu</td>\n",
       "      <td>1</td>\n",
       "      <td>2018</td>\n",
       "      <td>04:19</td>\n",
       "      <td>0.5</td>\n",
       "      <td>10:48</td>\n",
       "      <td>4.4</td>\n",
       "      <td>16:46</td>\n",
       "      <td>0.3</td>\n",
       "      <td>23:00</td>\n",
       "      <td>4.3</td>\n",
       "    </tr>\n",
       "    <tr>\n",
       "      <th>2</th>\n",
       "      <td>3</td>\n",
       "      <td>We</td>\n",
       "      <td>1</td>\n",
       "      <td>2018</td>\n",
       "      <td>05:11</td>\n",
       "      <td>0.4</td>\n",
       "      <td>11:35</td>\n",
       "      <td>4.5</td>\n",
       "      <td>17:34</td>\n",
       "      <td>0.3</td>\n",
       "      <td>23:51</td>\n",
       "      <td>4.3</td>\n",
       "    </tr>\n",
       "    <tr>\n",
       "      <th>3</th>\n",
       "      <td>4</td>\n",
       "      <td>Th</td>\n",
       "      <td>1</td>\n",
       "      <td>2018</td>\n",
       "      <td>06:00</td>\n",
       "      <td>0.3</td>\n",
       "      <td>12:21</td>\n",
       "      <td>4.5</td>\n",
       "      <td>18:22</td>\n",
       "      <td>0.3</td>\n",
       "      <td>NaN</td>\n",
       "      <td>NaN</td>\n",
       "    </tr>\n",
       "    <tr>\n",
       "      <th>4</th>\n",
       "      <td>5</td>\n",
       "      <td>Fr</td>\n",
       "      <td>1</td>\n",
       "      <td>2018</td>\n",
       "      <td>00:41</td>\n",
       "      <td>4.3</td>\n",
       "      <td>06:46</td>\n",
       "      <td>0.4</td>\n",
       "      <td>13:06</td>\n",
       "      <td>4.4</td>\n",
       "      <td>19:11</td>\n",
       "      <td>0.4</td>\n",
       "    </tr>\n",
       "  </tbody>\n",
       "</table>\n",
       "</div>"
      ],
      "text/plain": [
       "   Day Day of the week  Month  Year Tide 1 Time  Tide 1 Height Tide 2 Time  \\\n",
       "0    1              Mo      1  2018       03:23            0.7       09:58   \n",
       "1    2              Tu      1  2018       04:19            0.5       10:48   \n",
       "2    3              We      1  2018       05:11            0.4       11:35   \n",
       "3    4              Th      1  2018       06:00            0.3       12:21   \n",
       "4    5              Fr      1  2018       00:41            4.3       06:46   \n",
       "\n",
       "   Tide 2 Height Tide 3 Time  Tide 3 Height Tide 4 Time  Tide 4 Height  \n",
       "0            4.1       15:56            0.5       22:06            4.1  \n",
       "1            4.4       16:46            0.3       23:00            4.3  \n",
       "2            4.5       17:34            0.3       23:51            4.3  \n",
       "3            4.5       18:22            0.3         NaN            NaN  \n",
       "4            0.4       13:06            4.4       19:11            0.4  "
      ]
     },
     "execution_count": 5,
     "metadata": {},
     "output_type": "execute_result"
    }
   ],
   "source": [
    "data.head()"
   ]
  },
  {
   "cell_type": "markdown",
   "metadata": {},
   "source": [
    "# Preproc"
   ]
  },
  {
   "cell_type": "code",
   "execution_count": 6,
   "metadata": {},
   "outputs": [],
   "source": [
    "from datetime import datetime, date, time, timedelta"
   ]
  },
  {
   "cell_type": "code",
   "execution_count": 7,
   "metadata": {},
   "outputs": [],
   "source": [
    "d = []\n",
    "h = []\n",
    "lt = []\n",
    "\n",
    "for i, r in data.iterrows() :\n",
    "    \n",
    "    for t in range(1, 5) :\n",
    "        \n",
    "        if not pd.isna(r['Tide ' + str(t) + ' Height']) :\n",
    "            d.append(tz.localize(datetime.strptime(str(r['Year']) + '-' + str(r['Month'])  + '-' + str(r['Day']) + ' ' + r['Tide ' + str(t) + ' Time'], \"%Y-%m-%d %H:%M\")))\n",
    "            h.append(float(r['Tide ' + str(t) + ' Height']))\n",
    "        \n",
    "            if len(lt) > 0 and h[-1] < h[-2] :\n",
    "                lt.append(True)\n",
    "                \n",
    "            else :\n",
    "                lt.append(False)\n",
    "                \n",
    "lt[0] = h[0] < h[1]\n",
    "\n",
    "df = pd.DataFrame({'height' : h, 'low tide' : lt}, index = d)"
   ]
  },
  {
   "cell_type": "code",
   "execution_count": 8,
   "metadata": {
    "scrolled": true
   },
   "outputs": [
    {
     "data": {
      "text/html": [
       "<div>\n",
       "<style scoped>\n",
       "    .dataframe tbody tr th:only-of-type {\n",
       "        vertical-align: middle;\n",
       "    }\n",
       "\n",
       "    .dataframe tbody tr th {\n",
       "        vertical-align: top;\n",
       "    }\n",
       "\n",
       "    .dataframe thead th {\n",
       "        text-align: right;\n",
       "    }\n",
       "</style>\n",
       "<table border=\"1\" class=\"dataframe\">\n",
       "  <thead>\n",
       "    <tr style=\"text-align: right;\">\n",
       "      <th></th>\n",
       "      <th>height</th>\n",
       "      <th>low tide</th>\n",
       "    </tr>\n",
       "  </thead>\n",
       "  <tbody>\n",
       "    <tr>\n",
       "      <th>2018-01-01 03:23:00+13:00</th>\n",
       "      <td>0.7</td>\n",
       "      <td>True</td>\n",
       "    </tr>\n",
       "    <tr>\n",
       "      <th>2018-01-01 09:58:00+13:00</th>\n",
       "      <td>4.1</td>\n",
       "      <td>False</td>\n",
       "    </tr>\n",
       "    <tr>\n",
       "      <th>2018-01-01 15:56:00+13:00</th>\n",
       "      <td>0.5</td>\n",
       "      <td>True</td>\n",
       "    </tr>\n",
       "    <tr>\n",
       "      <th>2018-01-01 22:06:00+13:00</th>\n",
       "      <td>4.1</td>\n",
       "      <td>False</td>\n",
       "    </tr>\n",
       "    <tr>\n",
       "      <th>2018-01-02 04:19:00+13:00</th>\n",
       "      <td>0.5</td>\n",
       "      <td>True</td>\n",
       "    </tr>\n",
       "  </tbody>\n",
       "</table>\n",
       "</div>"
      ],
      "text/plain": [
       "                           height  low tide\n",
       "2018-01-01 03:23:00+13:00     0.7      True\n",
       "2018-01-01 09:58:00+13:00     4.1     False\n",
       "2018-01-01 15:56:00+13:00     0.5      True\n",
       "2018-01-01 22:06:00+13:00     4.1     False\n",
       "2018-01-02 04:19:00+13:00     0.5      True"
      ]
     },
     "execution_count": 8,
     "metadata": {},
     "output_type": "execute_result"
    }
   ],
   "source": [
    "df.head()"
   ]
  },
  {
   "cell_type": "code",
   "execution_count": 9,
   "metadata": {},
   "outputs": [
    {
     "data": {
      "text/plain": [
       "datetime64[ns, Pacific/Auckland]"
      ]
     },
     "execution_count": 9,
     "metadata": {},
     "output_type": "execute_result"
    }
   ],
   "source": [
    "df.index.dtype"
   ]
  },
  {
   "cell_type": "markdown",
   "metadata": {},
   "source": [
    "# To find the height of the tide at a given time\n",
    "\n",
    "If $t_1$ and $h_1$ denote the time and height of the tide (high or low) immediately preceeding time $t$, and $t_2$ and $h_2$ denote the height of the tide (high or low) immediately following time $t$, then the height $h$ at time $t$ is given by the following formula:  \n",
    "\n",
    "$h = h_1 + (h_2 - h_1 )[(cosA + 1)/2]$  \n",
    "where $A = π ([(t - t_1 )/(t_2 - t_1 )] + 1)$ radians  \n",
    "Note 1: On falling tides $(h_2 - h_1 )$ will be negative.  \n",
    "Note 2: t , $t_1$ and $t_2$ are in decimal hours.  \n",
    "\n",
    "from [Linz](https://www.linz.govt.nz/sea/tides/tide-predictions/how-calculate-tide-times-heights)"
   ]
  },
  {
   "cell_type": "markdown",
   "metadata": {},
   "source": [
    "## Calculation"
   ]
  },
  {
   "cell_type": "code",
   "execution_count": 10,
   "metadata": {},
   "outputs": [],
   "source": [
    "import numpy as np"
   ]
  },
  {
   "cell_type": "code",
   "execution_count": 11,
   "metadata": {},
   "outputs": [],
   "source": [
    "# Start stop date\n",
    "t_start = datetime.now(tz) - timedelta(days=1)\n",
    "t_stop = datetime.now(tz) + timedelta(days=1)"
   ]
  },
  {
   "cell_type": "code",
   "execution_count": 12,
   "metadata": {},
   "outputs": [],
   "source": [
    "# Convert into indexs\n",
    "i_start = df.index.get_loc(t_start, method='pad')\n",
    "i_stop = df.index.get_loc(t_stop, method='backfill')"
   ]
  },
  {
   "cell_type": "code",
   "execution_count": 13,
   "metadata": {
    "scrolled": false
   },
   "outputs": [],
   "source": [
    "tides = pd.DataFrame()\n",
    "\n",
    "# And then we loop\n",
    "for i in range(i_start, i_stop) :\n",
    "    # Tides time and height\n",
    "    t1 = df.index[i]\n",
    "    t2 = df.index[i + 1]\n",
    "    h1 = df['height'][i]\n",
    "    h2 = df['height'][i + 1]\n",
    "\n",
    "    #t = np.arange(t1, t2, timedelta(seconds=1))\n",
    "    t = pd.date_range(start = t1, end = t2, freq = timedelta(seconds=1))\n",
    "    \n",
    "    #t1 = df.index[i].tz_localize(None).to_pydatetime()\n",
    "    #t2 = df.index[i + 1].tz_localize(None).to_pydatetime()\n",
    "    #t = np.arange(t1, t2, timedelta(seconds=1)).astype(datetime)\n",
    "    \n",
    "    # Calculation\n",
    "    A = np.pi * ((t - t1) / (t2 - t1) + 1).astype(float)\n",
    "    h = h1 + (h2 - h1) * ((np.cos(A) + 1) / 2)\n",
    "    \n",
    "    # Add to the dataframe\n",
    "    tides = tides.append(pd.DataFrame({'height' : h}, index=t))"
   ]
  },
  {
   "cell_type": "code",
   "execution_count": 14,
   "metadata": {},
   "outputs": [
    {
     "data": {
      "text/html": [
       "<div>\n",
       "<style scoped>\n",
       "    .dataframe tbody tr th:only-of-type {\n",
       "        vertical-align: middle;\n",
       "    }\n",
       "\n",
       "    .dataframe tbody tr th {\n",
       "        vertical-align: top;\n",
       "    }\n",
       "\n",
       "    .dataframe thead th {\n",
       "        text-align: right;\n",
       "    }\n",
       "</style>\n",
       "<table border=\"1\" class=\"dataframe\">\n",
       "  <thead>\n",
       "    <tr style=\"text-align: right;\">\n",
       "      <th></th>\n",
       "      <th>height</th>\n",
       "    </tr>\n",
       "  </thead>\n",
       "  <tbody>\n",
       "    <tr>\n",
       "      <th>2018-04-20 18:41:00+12:00</th>\n",
       "      <td>0.7</td>\n",
       "    </tr>\n",
       "    <tr>\n",
       "      <th>2018-04-20 18:41:01+12:00</th>\n",
       "      <td>0.7</td>\n",
       "    </tr>\n",
       "    <tr>\n",
       "      <th>2018-04-20 18:41:02+12:00</th>\n",
       "      <td>0.7</td>\n",
       "    </tr>\n",
       "    <tr>\n",
       "      <th>2018-04-20 18:41:03+12:00</th>\n",
       "      <td>0.7</td>\n",
       "    </tr>\n",
       "    <tr>\n",
       "      <th>2018-04-20 18:41:04+12:00</th>\n",
       "      <td>0.7</td>\n",
       "    </tr>\n",
       "  </tbody>\n",
       "</table>\n",
       "</div>"
      ],
      "text/plain": [
       "                           height\n",
       "2018-04-20 18:41:00+12:00     0.7\n",
       "2018-04-20 18:41:01+12:00     0.7\n",
       "2018-04-20 18:41:02+12:00     0.7\n",
       "2018-04-20 18:41:03+12:00     0.7\n",
       "2018-04-20 18:41:04+12:00     0.7"
      ]
     },
     "execution_count": 14,
     "metadata": {},
     "output_type": "execute_result"
    }
   ],
   "source": [
    "tides.head()"
   ]
  },
  {
   "cell_type": "markdown",
   "metadata": {},
   "source": [
    "## Plot"
   ]
  },
  {
   "cell_type": "code",
   "execution_count": 15,
   "metadata": {},
   "outputs": [],
   "source": [
    "%matplotlib inline\n",
    "import matplotlib\n",
    "import matplotlib.pyplot as plt"
   ]
  },
  {
   "cell_type": "code",
   "execution_count": 16,
   "metadata": {},
   "outputs": [],
   "source": [
    "matplotlib.rcParams['figure.figsize'] = (20.0, 10.0)\n",
    "matplotlib.rcParams['timezone'] = 'Pacific/Auckland'"
   ]
  },
  {
   "cell_type": "code",
   "execution_count": 17,
   "metadata": {},
   "outputs": [],
   "source": [
    "# Subset\n",
    "pltdata = tides.loc[(tides.index > t_start) & (tides.index < t_stop)]"
   ]
  },
  {
   "cell_type": "code",
   "execution_count": 18,
   "metadata": {},
   "outputs": [
    {
     "data": {
      "image/png": "[encoded data removed]",
      "text/plain": [
       "<matplotlib.figure.Figure at 0x7fbf24b01b70>"
      ]
     },
     "metadata": {},
     "output_type": "display_data"
    }
   ],
   "source": [
    "fig = plt.figure()\n",
    "fig.suptitle('Tides in Nelson, New Zealand', fontsize=20)\n",
    "\n",
    "ax = fig.add_subplot(1, 1, 1)\n",
    "ax.plot(pltdata)\n",
    "\n",
    "#ax.set_xlabel('Datetime', fontsize=18)\n",
    "ax.set_ylabel('Height (m)', fontsize=16)\n",
    "\n",
    "import matplotlib.dates as mdates\n",
    "myFmt = mdates.DateFormatter('%d/%m - %Hh')\n",
    "ax.xaxis.set_major_formatter(myFmt)\n",
    "\n",
    "plt.show()"
   ]
  },
  {
   "cell_type": "code",
   "execution_count": null,
   "metadata": {},
   "outputs": [],
   "source": []
  }
 ],
 "metadata": {
  "kernelspec": {
   "display_name": "Python 3",
   "language": "python",
   "name": "python3"
  },
  "language_info": {
   "codemirror_mode": {
    "name": "ipython",
    "version": 3
   },
   "file_extension": ".py",
   "mimetype": "text/x-python",
   "name": "python",
   "nbconvert_exporter": "python",
   "pygments_lexer": "ipython3",
   "version": "3.6.4"
  }
 },
 "nbformat": 4,
 "nbformat_minor": 2
}
